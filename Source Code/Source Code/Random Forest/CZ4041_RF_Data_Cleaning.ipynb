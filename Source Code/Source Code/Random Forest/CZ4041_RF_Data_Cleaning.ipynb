{
  "nbformat": 4,
  "nbformat_minor": 0,
  "metadata": {
    "colab": {
      "name": "CZ4041 Final Data Cleaning.ipynb",
      "provenance": []
    },
    "kernelspec": {
      "name": "python3",
      "display_name": "Python 3"
    },
    "language_info": {
      "name": "python"
    }
  },
  "cells": [
    {
      "cell_type": "code",
      "source": [
        "import pandas as pd\n",
        "import numpy as np\n",
        "import matplotlib.pyplot as plt\n",
        "from matplotlib import style\n",
        "import seaborn as sns\n",
        "from sklearn.preprocessing import StandardScaler,LabelEncoder\n",
        "from scipy import stats\n",
        "from scipy.stats import norm,skew\n",
        "from sklearn.ensemble import RandomForestClassifier\n",
        "from sklearn.feature_selection import SelectFromModel\n",
        "from sklearn.model_selection import cross_val_score, train_test_split\n",
        "from sklearn.linear_model import LinearRegression, RidgeCV, LassoCV, ElasticNetCV\n",
        "from sklearn.metrics import mean_squared_error, make_scorer,log_loss\n",
        "from tqdm.notebook import tqdm_notebook\n",
        "from sklearn import preprocessing\n",
        "from sklearn.impute import KNNImputer"
      ],
      "metadata": {
        "id": "HwncPqQJxVjY"
      },
      "execution_count": null,
      "outputs": []
    },
    {
      "cell_type": "markdown",
      "source": [
        "#Merge Train/Test Data and Macro Data"
      ],
      "metadata": {
        "id": "GWUU0WRmxaOW"
      }
    },
    {
      "cell_type": "code",
      "source": [
        "df=pd.read_csv(\"train.csv\", parse_dates=['timestamp'])\n",
        "df1= pd.read_csv(\"test.csv\", parse_dates=['timestamp'])\n",
        "df_macro=pd.read_csv(\"macro.csv\", parse_dates=['timestamp'])\n",
        "train = pd.merge(df,df_macro, how='left', on='timestamp')\n",
        "test = pd.merge(df1, df_macro, how= 'left', on = 'timestamp')"
      ],
      "metadata": {
        "id": "KR4VfIH_xjfS"
      },
      "execution_count": null,
      "outputs": []
    },
    {
      "cell_type": "markdown",
      "source": [
        "#Data Cleaning"
      ],
      "metadata": {
        "id": "9m9kRMGxypp2"
      }
    },
    {
      "cell_type": "markdown",
      "source": [
        "##0. Concatenating Train and Test Dataset"
      ],
      "metadata": {
        "id": "zSVVosD8zve7"
      }
    },
    {
      "cell_type": "code",
      "source": [
        "train_data = train.drop('price_doc', axis=1)\n",
        "X = pd.concat([train_data, test])\n",
        "print(X.shape)"
      ],
      "metadata": {
        "colab": {
          "base_uri": "https://localhost:8080/"
        },
        "id": "jA1CZBA2z3UN",
        "outputId": "2bbd6c40-39c0-4b84-eff8-5610d0f60238"
      },
      "execution_count": null,
      "outputs": [
        {
          "output_type": "stream",
          "name": "stdout",
          "text": [
            "(38133, 390)\n"
          ]
        }
      ]
    },
    {
      "cell_type": "markdown",
      "source": [
        "##1. Drop some columns\n",
        "- columns which has correlation value with respect to price is less than 5%\n",
        "- colums which has almost 0 variance"
      ],
      "metadata": {
        "id": "uXT3c2qJywW1"
      }
    },
    {
      "cell_type": "code",
      "source": [
        "corr = train.corr()\n",
        "cor_target = abs(corr[\"price_doc\"])\n",
        "relevant_features = cor_target[cor_target<=0.05]\n",
        "# relevant_features.index.to_list()"
      ],
      "metadata": {
        "id": "EhH6xCnoy-Oo"
      },
      "execution_count": null,
      "outputs": []
    },
    {
      "cell_type": "code",
      "source": [
        "ids = [i for i in X.columns if 'ID' in i.split('_')]\n",
        "print(ids)"
      ],
      "metadata": {
        "colab": {
          "base_uri": "https://localhost:8080/"
        },
        "id": "uvdwH69o0Em3",
        "outputId": "408d3d53-4f7f-4451-bb33-8e5e7fe98a34"
      },
      "execution_count": null,
      "outputs": [
        {
          "output_type": "stream",
          "name": "stdout",
          "text": [
            "['ID_metro', 'ID_railroad_station_walk', 'ID_railroad_station_avto', 'ID_big_road1', 'ID_big_road2', 'ID_railroad_terminal', 'ID_bus_terminal']\n"
          ]
        }
      ]
    },
    {
      "cell_type": "code",
      "source": [
        "useless_ids = ['ID_metro', 'ID_railroad_station_walk', 'ID_railroad_station_avto', 'ID_big_road1', 'ID_big_road2', 'ID_railroad_terminal', 'ID_bus_terminal']\n",
        "X.drop(list(relevant_features.index) + useless_ids, axis = 1, inplace = True)\n",
        "X.shape"
      ],
      "metadata": {
        "colab": {
          "base_uri": "https://localhost:8080/"
        },
        "id": "eWZ1GWxi0Lbs",
        "outputId": "428a00a0-ebfc-4baa-e5b7-077b7472c61a"
      },
      "execution_count": null,
      "outputs": [
        {
          "output_type": "execute_result",
          "data": {
            "text/plain": [
              "(38133, 316)"
            ]
          },
          "metadata": {},
          "execution_count": 117
        }
      ]
    },
    {
      "cell_type": "markdown",
      "source": [
        "#2. Add useful features"
      ],
      "metadata": {
        "id": "IU78WmMz00jK"
      }
    },
    {
      "cell_type": "code",
      "source": [
        "X['timestamp'] = pd.to_datetime(X['timestamp'])\n",
        "X['year'] = X['timestamp'].dt.year #Year\n",
        "X['month'] = X['timestamp'].dt.month #Month\n",
        "X['day_of_week'] = X['timestamp'].dt.dayofweek # Day of Week\n",
        "X['rel_floor'] = X['floor'] / X['max_floor'] # Floor relative to total floors in building\n",
        "X['room_size'] = X['life_sq'] / X['num_room'] # Room size\n",
        "X['add_sq'] = X['full_sq'] - X['life_sq'] # Non living area\n",
        "X['add_area_ratio'] = X['add_sq']/X['full_sq'] #Ratio for non living area\n",
        "X['school_per_area'] = 1e7 * X['school_education_centers_raion'] / X['area_m'] # Schools per area\n",
        "X['school_vicinity'] = X['school_km'] / X['area_m'].apply(np.sqrt, 0) # Schools in vicinity\n",
        "X['office_vicinity'] = X['office_km'] / X['area_m'].apply(np.sqrt, 0) # Office vicinity\n",
        "X['healthcare_vicinity'] = X['public_healthcare_km'] / X['area_m'].apply(np.sqrt, 0) # Public heathcare vicinity\n",
        "X['mall_vicinity'] =  X['shopping_centers_km'] / X['area_m'].apply(np.sqrt, 0) # Shopping mall vicinity\n",
        "X['resident_to_total_ratio'] = X['life_sq']/X['full_sq'] # Residential & kitchen area to total area ratio\n",
        "X['avg_room_area'] = X['life_sq']/X['num_room'] # Average area per room\n",
        "X['pct_labor_force'] = X['work_all']/X['raion_popul'] # Percentage of population in labor force\n",
        "X['floor_rel_total'] = X['floor']/X['max_floor'] # Apartment floor relative to building height\n",
        "\n",
        "#Some additional Binary Variables\n",
        "X['metro_flag'] = np.where(X['raion_popul'] > 150000, 1, 0)\n",
        "X['large_flag'] = np.where(X['max_floor'] >= 20, 1, 0)\n",
        "X['small_flag'] = np.where(X['max_floor'] <= 20, 1, 0)\n",
        "\n",
        "# Average building height for subarea\n",
        "sub_area_means = X.groupby('sub_area').agg({'max_floor':np.mean}).reset_index().rename(columns={'max_floor':'mean_bldg_height'})\n",
        "X = pd.merge(X, sub_area_means, on = ['sub_area'], how = 'left')\n",
        "\n",
        "# Average distance to Kremlin by subarea\n",
        "dist_to_kremlin = X.groupby('sub_area').agg({'kremlin_km':np.nanmean}).reset_index().rename(columns={'kremlin_km':'subarea_dist_to_kremlin'})\n",
        "X = pd.merge(X, dist_to_kremlin, on = ['sub_area'], how = 'left')"
      ],
      "metadata": {
        "id": "2lwckk2S03C3"
      },
      "execution_count": null,
      "outputs": []
    },
    {
      "cell_type": "markdown",
      "source": [
        "#3. Data Anomalies\n",
        "\n",
        "Cleaning data by correcting data anomalies based on the following assumptions:\n",
        "\n",
        "- Total square area(full_sq) and living area(life_sq) should fall within a certain range\n",
        "- Living area(life_sq) should not be greater than total square area(full_sq)\n",
        "- Kitchen area(kitch_sq) should not be greater than living area(life_sq)\n",
        "- Ratio of living area to total area\n",
        "- Build year(build_year) should be within a certain range\n",
        "- Number of living rooms(num_room) should not be 0\n",
        "- Floor of the building(floor) and number of floors in the building(max_floor) should not be 0\n",
        "- Floor of the building(floor) should not be greater than number of floors in the building(max_floor)\n",
        "- Price(price_doc) per total square area(full_sq) should be within a certain range\n",
        "- Return Index of each room is less then 5  and replace it as NaN\n"
      ],
      "metadata": {
        "id": "pBKkLGtQ2s8p"
      }
    },
    {
      "cell_type": "code",
      "source": [
        "#Return Index of life sq < 7 and replace it as NaN\n",
        "replace_index = X[X.life_sq < 7].index\n",
        "X.loc[replace_index, 'life_sq'] = np.NaN\n",
        "\n",
        "#Return Index of full sq < 7 and replace it as NaN\n",
        "replace_index = X[X.life_sq < 7].index\n",
        "X.loc[replace_index, 'full_sq'] = np.NaN\n",
        "\n",
        "#If life > full NaN\n",
        "replace_index = X[X.life_sq > X.full_sq].index\n",
        "X.loc[replace_index, 'life_sq'] = np.NaN\n",
        "\n",
        "replace_index = X[(X.full_sq > 200) & (X.life_sq/X.full_sq < 0.3)].index\n",
        "X.loc[replace_index, 'full_sq'] = np.NaN\n",
        "\n",
        "replace_index = X[X.num_room == 0].index\n",
        "X.loc[replace_index, 'num_room'] = np.NaN\n",
        "\n",
        "replace_index = X[X.floor == 0].index\n",
        "X.loc[replace_index, 'floor'] = np.NaN\n",
        "\n",
        "replace_index = X[X.max_floor == 0].index\n",
        "X.loc[replace_index, 'max_floor'] = np.NaN\n",
        "\n",
        "replace_index = X[X.floor > X.max_floor].index\n",
        "X.loc[replace_index, 'max_floor'] = np.NaN\n",
        "\n",
        "#Return Index of each room is less then 5  and replace it as NaN\n",
        "replace_index  =  X[X.life_sq/X.num_room  < 5].index\n",
        "X.loc[replace_index, \"num_room\"] = np.NaN\n",
        "\n",
        "#Filling Missing data for life square\n",
        "X['life_sq_percentage'] = X.life_sq.div(X.full_sq)\n",
        "X.life_sq=X.life_sq.fillna(X.life_sq_percentage.mean()*X.full_sq)"
      ],
      "metadata": {
        "id": "Pcv-3Qf22vJm"
      },
      "execution_count": null,
      "outputs": []
    },
    {
      "cell_type": "markdown",
      "source": [
        "#4. Missing Data Analysis"
      ],
      "metadata": {
        "id": "BaLPT_9x5egI"
      }
    },
    {
      "cell_type": "code",
      "source": [
        "missing_values = ((X.isna().sum())/X.shape[0])*100\n",
        "\n",
        "missing_values.sort_values(ascending=False,inplace = True)\n",
        "missing_values.head(50)"
      ],
      "metadata": {
        "colab": {
          "base_uri": "https://localhost:8080/"
        },
        "id": "ct1MCdG75jYO",
        "outputId": "0d626760-ecb6-4b0a-c366-d4c697207c45"
      },
      "execution_count": null,
      "outputs": [
        {
          "output_type": "execute_result",
          "data": {
            "text/plain": [
              "provision_retail_space_modern_sqm        98.025332\n",
              "museum_visitis_per_100_cap               64.414025\n",
              "theaters_viewers_per_1000_cap            64.414025\n",
              "hospital_beds_raion                      46.833451\n",
              "room_size                                39.047544\n",
              "avg_room_area                            39.047544\n",
              "state                                    37.377075\n",
              "max_floor                                30.713555\n",
              "population_reg_sports_share              28.586788\n",
              "share_own_revenues                       28.586788\n",
              "profitable_enterpr_share                 28.586788\n",
              "unprofitable_enterpr_share               28.586788\n",
              "hospital_bed_occupancy_per_year          28.586788\n",
              "hospital_beds_available_per_cap          28.586788\n",
              "power_clinics                            28.586788\n",
              "provision_doctors                        28.586788\n",
              "fin_res_per_cap                          28.586788\n",
              "apartment_build                          28.586788\n",
              "marriages_per_1000_cap                   28.586788\n",
              "construction_value                       28.586788\n",
              "child_on_acc_pre_school                  28.586788\n",
              "invest_fixed_assets_phys                 28.586788\n",
              "pop_migration                            28.586788\n",
              "pop_total_inc                            28.586788\n",
              "incidence_population                     28.586788\n",
              "perinatal_mort_per_1000_cap              28.586788\n",
              "infant_mortarity_per_1000_cap            28.586788\n",
              "electric_stove_share                     28.586788\n",
              "gas_share                                28.586788\n",
              "housing_fund_sqm                         28.586788\n",
              "grp                                      28.586788\n",
              "real_dispos_income_per_cap_growth        28.586788\n",
              "num_room                                 25.177668\n",
              "rel_floor                                25.112108\n",
              "floor_rel_total                          25.112108\n",
              "modern_education_share                   25.109485\n",
              "old_education_build_share                25.109485\n",
              "material                                 25.101618\n",
              "life_sq_percentage                       21.975717\n",
              "preschool_quota                          21.723966\n",
              "cafe_avg_price_1000                      20.313115\n",
              "cafe_sum_1000_min_price_avg              20.313115\n",
              "cafe_sum_1000_max_price_avg              20.313115\n",
              "resident_to_total_ratio                  19.825348\n",
              "add_area_ratio                           19.825348\n",
              "add_sq                                   19.822726\n",
              "raion_build_count_with_material_info     16.282485\n",
              "build_count_1946-1970                    16.282485\n",
              "build_count_before_1920                  16.282485\n",
              "raion_build_count_with_builddate_info    16.282485\n",
              "dtype: float64"
            ]
          },
          "metadata": {},
          "execution_count": 120
        }
      ]
    },
    {
      "cell_type": "markdown",
      "source": [
        "##1) Drop all the colums having missing values more than 50%"
      ],
      "metadata": {
        "id": "T2AkDKxg-owI"
      }
    },
    {
      "cell_type": "code",
      "source": [
        "X = X.drop(columns = missing_values[(missing_values>50)].index.to_list())"
      ],
      "metadata": {
        "id": "mugCtL5B-nwb"
      },
      "execution_count": null,
      "outputs": []
    },
    {
      "cell_type": "markdown",
      "source": [
        "##2) Median Imputation for Columns which have missing values less than 10%"
      ],
      "metadata": {
        "id": "vT37ioM_5nhY"
      }
    },
    {
      "cell_type": "code",
      "source": [
        "# Select all the columns having missing values less than equal to 10%\n",
        "\n",
        "print(len(missing_values[(missing_values>0) & (missing_values<=10)].index))\n",
        "missing_values[(missing_values>0) & (missing_values<=10)].index.to_list()"
      ],
      "metadata": {
        "colab": {
          "base_uri": "https://localhost:8080/"
        },
        "id": "6rrjRs4F54LX",
        "outputId": "dd78d2e9-b9ed-4b64-f36d-e3e479463340"
      },
      "execution_count": null,
      "outputs": [
        {
          "output_type": "stream",
          "name": "stdout",
          "text": [
            "38\n"
          ]
        },
        {
          "output_type": "execute_result",
          "data": {
            "text/plain": [
              "['cafe_avg_price_2000',\n",
              " 'cafe_sum_2000_max_price_avg',\n",
              " 'cafe_sum_2000_min_price_avg',\n",
              " 'deposits_rate',\n",
              " 'oil_urals',\n",
              " 'micex_cbi_tr',\n",
              " 'gdp_quart',\n",
              " 'gdp_deflator',\n",
              " 'gdp_quart_growth',\n",
              " 'cpi',\n",
              " 'ppi',\n",
              " 'average_provision_of_build_contract_moscow',\n",
              " 'balance_trade_growth',\n",
              " 'usdrub',\n",
              " 'average_provision_of_build_contract',\n",
              " 'micex_rgbi_tr',\n",
              " 'rts',\n",
              " 'eurrub',\n",
              " 'brent',\n",
              " 'gdp_annual',\n",
              " 'gdp_annual_growth',\n",
              " 'deposits_value',\n",
              " 'fixed_basket',\n",
              " 'mortgage_growth',\n",
              " 'rent_price_4+room_bus',\n",
              " 'mortgage_rate',\n",
              " 'rent_price_2room_bus',\n",
              " 'rent_price_3room_bus',\n",
              " 'rent_price_3room_eco',\n",
              " 'prom_part_5000',\n",
              " 'floor',\n",
              " 'metro_min_walk',\n",
              " 'metro_km_walk',\n",
              " 'railroad_station_walk_km',\n",
              " 'railroad_station_walk_min',\n",
              " 'product_type',\n",
              " 'green_part_2000',\n",
              " 'full_sq']"
            ]
          },
          "metadata": {},
          "execution_count": 122
        }
      ]
    },
    {
      "cell_type": "code",
      "source": [
        "values = {'cafe_sum_2000_max_price_avg': X['cafe_sum_2000_max_price_avg'].median(),\n",
        "          'cafe_sum_2000_min_price_avg' : X['cafe_sum_2000_min_price_avg'].median(),\n",
        "          'cafe_avg_price_2000': X['cafe_avg_price_2000'].median(),\n",
        "          'deposits_rate': X['deposits_rate'].median(),\n",
        "          'deposits_value': X['deposits_value'].median(),\n",
        "          'fixed_basket':X['fixed_basket'].median(),\n",
        "          'micex_cbi_tr': X['micex_cbi_tr'].median(),\n",
        "          'micex_rgbi_tr': X['micex_rgbi_tr'].median(),\n",
        "          'rts': X['rts'].median(),\n",
        "          'mortgage_growth': X['mortgage_growth'].median(),\n",
        "           'average_provision_of_build_contract_moscow': X['average_provision_of_build_contract_moscow'].median(),\n",
        "           'brent': X['brent'].median(),\n",
        "           'mortgage_rate': X['mortgage_rate'].median(),\n",
        "           'eurrub': X['eurrub'].median(),\n",
        "           'usdrub': X['usdrub'].median(),\n",
        "           'balance_trade_growth': X['balance_trade_growth'].median(),\n",
        "           'gdp_deflator': X['gdp_deflator'].median(),\n",
        "           'average_provision_of_build_contract': X['average_provision_of_build_contract'].median(),\n",
        "           'ppi': X['ppi'].median(),\n",
        "           'cpi': X['cpi'].median(),\n",
        "           'gdp_quart_growth': X['gdp_quart_growth'].median(),\n",
        "           'gdp_quart': X['gdp_quart'].median(),\n",
        "           'gdp_annual': X['gdp_annual'].median(),\n",
        "           'oil_urals': X['oil_urals'].median(),\n",
        "           'rent_price_3room_eco': X['rent_price_3room_eco'].median(),\n",
        "           'rent_price_2room_bus': X['rent_price_2room_bus'].median(),\n",
        "           'rent_price_3room_bus': X['rent_price_3room_bus'].median(),\n",
        "           'rent_price_4+room_bus': X['rent_price_4+room_bus'].median(),\n",
        "           'gdp_annual_growth': X['gdp_annual_growth'].median(),\n",
        "           'prom_part_5000': X['prom_part_5000'].median(),\n",
        "           'floor': X['floor'].median(),\n",
        "           'metro_min_walk': X['metro_min_walk'].median(),\n",
        "           'metro_km_walk': X['metro_km_walk'].median(),\n",
        "           'railroad_station_walk_km': X['railroad_station_walk_km'].median(),\n",
        "           'railroad_station_walk_min': X['railroad_station_walk_min'].median(),\n",
        "           'product_type': X['product_type'].mode(),\n",
        "            'green_part_2000': X['green_part_2000'].median(),\n",
        "           'full_sq': X['full_sq'].median()\n",
        "           }\n",
        "\n",
        "X.fillna(value=values, inplace = True)"
      ],
      "metadata": {
        "id": "esNef7kC6SVr"
      },
      "execution_count": null,
      "outputs": []
    },
    {
      "cell_type": "markdown",
      "source": [
        "##2. Using K-nearest Model for others"
      ],
      "metadata": {
        "id": "NnSc23B48Gmf"
      }
    },
    {
      "cell_type": "code",
      "source": [
        "missing_values[(missing_values>10) & (missing_values<=50)].index"
      ],
      "metadata": {
        "colab": {
          "base_uri": "https://localhost:8080/"
        },
        "id": "BDisCeQ08UjI",
        "outputId": "b7fd05bb-e3b2-43d9-99a0-152b1975ddab"
      },
      "execution_count": null,
      "outputs": [
        {
          "output_type": "execute_result",
          "data": {
            "text/plain": [
              "Index(['hospital_beds_raion', 'room_size', 'avg_room_area', 'state',\n",
              "       'max_floor', 'population_reg_sports_share', 'share_own_revenues',\n",
              "       'profitable_enterpr_share', 'unprofitable_enterpr_share',\n",
              "       'hospital_bed_occupancy_per_year', 'hospital_beds_available_per_cap',\n",
              "       'power_clinics', 'provision_doctors', 'fin_res_per_cap',\n",
              "       'apartment_build', 'marriages_per_1000_cap', 'construction_value',\n",
              "       'child_on_acc_pre_school', 'invest_fixed_assets_phys', 'pop_migration',\n",
              "       'pop_total_inc', 'incidence_population', 'perinatal_mort_per_1000_cap',\n",
              "       'infant_mortarity_per_1000_cap', 'electric_stove_share', 'gas_share',\n",
              "       'housing_fund_sqm', 'grp', 'real_dispos_income_per_cap_growth',\n",
              "       'num_room', 'rel_floor', 'floor_rel_total', 'modern_education_share',\n",
              "       'old_education_build_share', 'material', 'life_sq_percentage',\n",
              "       'preschool_quota', 'cafe_avg_price_1000', 'cafe_sum_1000_min_price_avg',\n",
              "       'cafe_sum_1000_max_price_avg', 'resident_to_total_ratio',\n",
              "       'add_area_ratio', 'add_sq', 'raion_build_count_with_material_info',\n",
              "       'build_count_1946-1970', 'build_count_before_1920',\n",
              "       'raion_build_count_with_builddate_info', 'build_count_monolith',\n",
              "       'build_count_brick', 'cafe_sum_1500_min_price_avg',\n",
              "       'cafe_sum_1500_max_price_avg', 'cafe_avg_price_1500',\n",
              "       'retail_trade_turnover_per_cap', 'unemployment', 'childbirth', 'salary',\n",
              "       'invest_fixed_assets', 'retail_trade_turnover_growth', 'salary_growth',\n",
              "       'retail_trade_turnover', 'pop_natural_increase', 'labor_force',\n",
              "       'invest_fixed_capital_per_cap', 'employment', 'students_state_oneshift',\n",
              "       'seats_theather_rfmin_per_100000_cap', 'provision_nurse',\n",
              "       'bandwidth_sports', 'turnover_catering_per_cap', 'load_on_doctors',\n",
              "       'load_of_teachers_school_per_teacher', 'average_life_exp'],\n",
              "      dtype='object')"
            ]
          },
          "metadata": {},
          "execution_count": 124
        }
      ]
    },
    {
      "cell_type": "code",
      "source": [
        "missing_values_list = ['hospital_beds_raion', 'room_size', 'avg_room_area', 'state',\n",
        "       'max_floor', 'population_reg_sports_share', 'share_own_revenues',\n",
        "       'profitable_enterpr_share', 'unprofitable_enterpr_share',\n",
        "       'hospital_bed_occupancy_per_year', 'hospital_beds_available_per_cap',\n",
        "       'power_clinics', 'provision_doctors', 'fin_res_per_cap',\n",
        "       'apartment_build', 'marriages_per_1000_cap', 'construction_value',\n",
        "        'invest_fixed_assets_phys', 'pop_migration',\n",
        "       'pop_total_inc', 'incidence_population', 'perinatal_mort_per_1000_cap',\n",
        "       'infant_mortarity_per_1000_cap', 'electric_stove_share', 'gas_share',\n",
        "       'housing_fund_sqm', 'grp', 'real_dispos_income_per_cap_growth',\n",
        "       'num_room', 'rel_floor', 'floor_rel_total', 'material', 'life_sq_percentage',\n",
        "       'preschool_quota', 'cafe_avg_price_1000', 'cafe_sum_1000_min_price_avg',\n",
        "       'cafe_sum_1000_max_price_avg', 'resident_to_total_ratio',\n",
        "       'add_area_ratio', 'add_sq', 'raion_build_count_with_material_info',\n",
        "       'build_count_1946-1970', 'build_count_before_1920',\n",
        "       'raion_build_count_with_builddate_info', 'build_count_monolith',\n",
        "       'build_count_brick', 'cafe_sum_1500_min_price_avg',\n",
        "       'cafe_sum_1500_max_price_avg', 'cafe_avg_price_1500',\n",
        "       'retail_trade_turnover_per_cap', 'unemployment', 'childbirth', 'salary',\n",
        "       'invest_fixed_assets', 'retail_trade_turnover_growth', 'salary_growth',\n",
        "       'retail_trade_turnover', 'pop_natural_increase', 'labor_force',\n",
        "       'invest_fixed_capital_per_cap', 'employment', 'students_state_oneshift',\n",
        "       'seats_theather_rfmin_per_100000_cap', 'provision_nurse',\n",
        "       'bandwidth_sports', 'turnover_catering_per_cap', 'load_on_doctors',\n",
        "       'load_of_teachers_school_per_teacher', 'average_life_exp']"
      ],
      "metadata": {
        "id": "4GrGY8GWFL4w"
      },
      "execution_count": null,
      "outputs": []
    },
    {
      "cell_type": "code",
      "source": [
        "X.replace([np.inf, -np.inf], np.NaN, inplace=True)\n",
        "\n",
        "imputer = KNNImputer(n_neighbors=3)\n",
        "for i in missing_values_list:\n",
        "    X[i] = imputer.fit_transform(X[[i]])"
      ],
      "metadata": {
        "id": "_zx5Lp9o8ctG"
      },
      "execution_count": null,
      "outputs": []
    },
    {
      "cell_type": "code",
      "source": [
        "print(X.shape)"
      ],
      "metadata": {
        "colab": {
          "base_uri": "https://localhost:8080/"
        },
        "id": "XN3WAhrxLRVV",
        "outputId": "2ad7e833-1ee5-4234-867a-730c34133d5e"
      },
      "execution_count": null,
      "outputs": [
        {
          "output_type": "stream",
          "name": "stdout",
          "text": [
            "(38133, 335)\n"
          ]
        }
      ]
    },
    {
      "cell_type": "code",
      "source": [
        "X = X.drop(columns = ['child_on_acc_pre_school', 'old_education_build_share', 'modern_education_share'])"
      ],
      "metadata": {
        "id": "TXvjPKlYJovo"
      },
      "execution_count": null,
      "outputs": []
    },
    {
      "cell_type": "code",
      "source": [
        "X.product_type = X.product_type.fillna('Investment')"
      ],
      "metadata": {
        "id": "KL3kAx5PL_tc"
      },
      "execution_count": null,
      "outputs": []
    },
    {
      "cell_type": "code",
      "source": [
        "missing_val1 = X.isna().sum()\n",
        "missing_val_per = X.isna().sum()/len(train)*100\n",
        "missing_val_table = pd.concat([missing_val1, missing_val_per], axis=1)\n",
        "missing_val_table_columns = missing_val_table.rename(columns = {0: 'Missing Values', 1: '% of Total Values'})\n",
        "missing_val_table_columns = missing_val_table_columns[missing_val_table_columns.iloc[:,:] != 0].sort_values('% of Total Values', ascending=False).round(1)\n",
        "missing_val_table_columns = missing_val_table_columns[missing_val_table_columns['Missing Values'].notna()]\n",
        "missing_val_table_columns"
      ],
      "metadata": {
        "colab": {
          "base_uri": "https://localhost:8080/",
          "height": 49
        },
        "id": "yrj5C9biMDqF",
        "outputId": "0b0f2150-8590-426f-aa80-6b0f98de00d2"
      },
      "execution_count": null,
      "outputs": [
        {
          "output_type": "execute_result",
          "data": {
            "text/plain": [
              "Empty DataFrame\n",
              "Columns: [Missing Values, % of Total Values]\n",
              "Index: []"
            ],
            "text/html": [
              "\n",
              "  <div id=\"df-e74f252a-3256-4807-a66f-385f191c56d6\">\n",
              "    <div class=\"colab-df-container\">\n",
              "      <div>\n",
              "<style scoped>\n",
              "    .dataframe tbody tr th:only-of-type {\n",
              "        vertical-align: middle;\n",
              "    }\n",
              "\n",
              "    .dataframe tbody tr th {\n",
              "        vertical-align: top;\n",
              "    }\n",
              "\n",
              "    .dataframe thead th {\n",
              "        text-align: right;\n",
              "    }\n",
              "</style>\n",
              "<table border=\"1\" class=\"dataframe\">\n",
              "  <thead>\n",
              "    <tr style=\"text-align: right;\">\n",
              "      <th></th>\n",
              "      <th>Missing Values</th>\n",
              "      <th>% of Total Values</th>\n",
              "    </tr>\n",
              "  </thead>\n",
              "  <tbody>\n",
              "  </tbody>\n",
              "</table>\n",
              "</div>\n",
              "      <button class=\"colab-df-convert\" onclick=\"convertToInteractive('df-e74f252a-3256-4807-a66f-385f191c56d6')\"\n",
              "              title=\"Convert this dataframe to an interactive table.\"\n",
              "              style=\"display:none;\">\n",
              "        \n",
              "  <svg xmlns=\"http://www.w3.org/2000/svg\" height=\"24px\"viewBox=\"0 0 24 24\"\n",
              "       width=\"24px\">\n",
              "    <path d=\"M0 0h24v24H0V0z\" fill=\"none\"/>\n",
              "    <path d=\"M18.56 5.44l.94 2.06.94-2.06 2.06-.94-2.06-.94-.94-2.06-.94 2.06-2.06.94zm-11 1L8.5 8.5l.94-2.06 2.06-.94-2.06-.94L8.5 2.5l-.94 2.06-2.06.94zm10 10l.94 2.06.94-2.06 2.06-.94-2.06-.94-.94-2.06-.94 2.06-2.06.94z\"/><path d=\"M17.41 7.96l-1.37-1.37c-.4-.4-.92-.59-1.43-.59-.52 0-1.04.2-1.43.59L10.3 9.45l-7.72 7.72c-.78.78-.78 2.05 0 2.83L4 21.41c.39.39.9.59 1.41.59.51 0 1.02-.2 1.41-.59l7.78-7.78 2.81-2.81c.8-.78.8-2.07 0-2.86zM5.41 20L4 18.59l7.72-7.72 1.47 1.35L5.41 20z\"/>\n",
              "  </svg>\n",
              "      </button>\n",
              "      \n",
              "  <style>\n",
              "    .colab-df-container {\n",
              "      display:flex;\n",
              "      flex-wrap:wrap;\n",
              "      gap: 12px;\n",
              "    }\n",
              "\n",
              "    .colab-df-convert {\n",
              "      background-color: #E8F0FE;\n",
              "      border: none;\n",
              "      border-radius: 50%;\n",
              "      cursor: pointer;\n",
              "      display: none;\n",
              "      fill: #1967D2;\n",
              "      height: 32px;\n",
              "      padding: 0 0 0 0;\n",
              "      width: 32px;\n",
              "    }\n",
              "\n",
              "    .colab-df-convert:hover {\n",
              "      background-color: #E2EBFA;\n",
              "      box-shadow: 0px 1px 2px rgba(60, 64, 67, 0.3), 0px 1px 3px 1px rgba(60, 64, 67, 0.15);\n",
              "      fill: #174EA6;\n",
              "    }\n",
              "\n",
              "    [theme=dark] .colab-df-convert {\n",
              "      background-color: #3B4455;\n",
              "      fill: #D2E3FC;\n",
              "    }\n",
              "\n",
              "    [theme=dark] .colab-df-convert:hover {\n",
              "      background-color: #434B5C;\n",
              "      box-shadow: 0px 1px 3px 1px rgba(0, 0, 0, 0.15);\n",
              "      filter: drop-shadow(0px 1px 2px rgba(0, 0, 0, 0.3));\n",
              "      fill: #FFFFFF;\n",
              "    }\n",
              "  </style>\n",
              "\n",
              "      <script>\n",
              "        const buttonEl =\n",
              "          document.querySelector('#df-e74f252a-3256-4807-a66f-385f191c56d6 button.colab-df-convert');\n",
              "        buttonEl.style.display =\n",
              "          google.colab.kernel.accessAllowed ? 'block' : 'none';\n",
              "\n",
              "        async function convertToInteractive(key) {\n",
              "          const element = document.querySelector('#df-e74f252a-3256-4807-a66f-385f191c56d6');\n",
              "          const dataTable =\n",
              "            await google.colab.kernel.invokeFunction('convertToInteractive',\n",
              "                                                     [key], {});\n",
              "          if (!dataTable) return;\n",
              "\n",
              "          const docLinkHtml = 'Like what you see? Visit the ' +\n",
              "            '<a target=\"_blank\" href=https://colab.research.google.com/notebooks/data_table.ipynb>data table notebook</a>'\n",
              "            + ' to learn more about interactive tables.';\n",
              "          element.innerHTML = '';\n",
              "          dataTable['output_type'] = 'display_data';\n",
              "          await google.colab.output.renderOutput(dataTable, element);\n",
              "          const docLink = document.createElement('div');\n",
              "          docLink.innerHTML = docLinkHtml;\n",
              "          element.appendChild(docLink);\n",
              "        }\n",
              "      </script>\n",
              "    </div>\n",
              "  </div>\n",
              "  "
            ]
          },
          "metadata": {},
          "execution_count": 145
        }
      ]
    },
    {
      "cell_type": "code",
      "source": [
        "train_price = train[['id','price_doc']].copy()"
      ],
      "metadata": {
        "id": "UGuNcohYMImw"
      },
      "execution_count": null,
      "outputs": []
    },
    {
      "cell_type": "code",
      "source": [
        "data_train = X[X['id'].isin(train_price['id'])]\n",
        "data_train = pd.merge(data_train, train_price, on = ['id'], how = 'inner')\n",
        "print(data_train.shape)\n",
        "\n",
        "data_test = X[~X['id'].isin(train_price['id'])]\n",
        "print(data_test.shape)"
      ],
      "metadata": {
        "colab": {
          "base_uri": "https://localhost:8080/"
        },
        "id": "zEWdIPuKMX9m",
        "outputId": "b7a52c05-8048-4f10-ba0d-57659296926e"
      },
      "execution_count": null,
      "outputs": [
        {
          "output_type": "stream",
          "name": "stdout",
          "text": [
            "(30471, 333)\n",
            "(7662, 332)\n"
          ]
        }
      ]
    },
    {
      "cell_type": "code",
      "source": [
        "data_train.to_csv('data_train.csv')\n",
        "data_test.to_csv('data_test.csv')"
      ],
      "metadata": {
        "id": "866UVEtrMgvC"
      },
      "execution_count": null,
      "outputs": []
    }
  ]
}