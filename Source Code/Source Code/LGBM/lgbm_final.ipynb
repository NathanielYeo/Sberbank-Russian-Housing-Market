{
 "cells": [
  {
   "cell_type": "code",
   "execution_count": 1,
   "metadata": {},
   "outputs": [],
   "source": [
    "import numpy as np\n",
    "import pandas as pd\n",
    "import lightgbm as lgb\n",
    "from scipy.special import boxcox, inv_boxcox\n",
    "import warnings\n",
    "import re\n",
    "from sklearn import preprocessing\n",
    "warnings.filterwarnings('ignore')"
   ]
  },
  {
   "cell_type": "markdown",
   "metadata": {},
   "source": [
    "# Loading and processing data"
   ]
  },
  {
   "cell_type": "code",
   "execution_count": 2,
   "metadata": {},
   "outputs": [],
   "source": [
    "train = pd.read_csv(open('train.csv'), parse_dates=['timestamp'])\n",
    "test = pd.read_csv(open('test.csv'), parse_dates=['timestamp'])"
   ]
  },
  {
   "cell_type": "markdown",
   "metadata": {},
   "source": [
    "Removing price outliers "
   ]
  },
  {
   "cell_type": "code",
   "execution_count": 3,
   "metadata": {},
   "outputs": [],
   "source": [
    "train=train[(train.price_doc>1e6) & (train.price_doc!=2e6) & (train.price_doc!=3e6)]\n",
    "train.loc[(train.product_type=='Investment') & (train.build_year<2000),'price_doc']*=0.9 \n",
    "train.loc[train.product_type!='Investment','price_doc']*=0.969"
   ]
  },
  {
   "cell_type": "code",
   "execution_count": 4,
   "metadata": {},
   "outputs": [],
   "source": [
    "y_train = np.log(train['price_doc'])\n",
    "train.drop(['price_doc'], inplace=True, axis=1)\n",
    "X = pd.concat([train,test])\n",
    "X['na_counts'] = X.isnull().sum(axis=1)\n",
    "df_categorical = None\n",
    "remove = []\n",
    "\n",
    "for i in X.columns:\n",
    "    if X[i].dtype == 'object':\n",
    "        converted = pd.get_dummies(X[i], prefix=i)\n",
    "        if df_categorical is None:\n",
    "            df_categorical = converted\n",
    "        else:\n",
    "            df_categorical = pd.concat([df_categorical, converted], axis=1)\n",
    "        remove.append(i)\n",
    "\n",
    "X.drop(remove, inplace=True, axis=1)"
   ]
  },
  {
   "cell_type": "code",
   "execution_count": 5,
   "metadata": {},
   "outputs": [],
   "source": [
    "remove = []\n",
    "if df_categorical is not None:\n",
    "    sum = df_categorical.sum(axis=0)\n",
    "    remove = sum[sum<200].index.values\n",
    "    df_categorical = df_categorical.loc[:,df_categorical.columns.difference(remove)]\n",
    "    X = pd.concat([X, df_categorical], axis=1)"
   ]
  },
  {
   "cell_type": "markdown",
   "metadata": {},
   "source": [
    "# Applying LightGBM Regressor Model"
   ]
  },
  {
   "cell_type": "code",
   "execution_count": 6,
   "metadata": {},
   "outputs": [],
   "source": [
    "num_train = train.shape[0]\n",
    "x_train = X[:num_train].drop(['timestamp','id'], axis=1)\n",
    "x_test = X[num_train:].drop(['timestamp','id'], axis=1)"
   ]
  },
  {
   "cell_type": "code",
   "execution_count": 7,
   "metadata": {},
   "outputs": [
    {
     "name": "stdout",
     "output_type": "stream",
     "text": [
      "[LightGBM] [Warning] Found whitespace in feature_names, replace with underlines\n",
      "[LightGBM] [Warning] Auto-choosing row-wise multi-threading, the overhead of testing was 1.163747 seconds.\n",
      "You can set `force_row_wise=true` to remove the overhead.\n",
      "And if memory is not enough, you can set `force_col_wise=true`.\n"
     ]
    }
   ],
   "source": [
    "params = {  'objective': 'regression',\n",
    "            'metric': 'rmse',\n",
    "            'boosting': 'gbdt',\n",
    "            'learning_rate': 0.01 ,\n",
    "            'verbose': 0,\n",
    "            'num_leaves': 32,\n",
    "            'bagging_fraction': 0.95,\n",
    "            'bagging_freq': 1,\n",
    "            'bagging_seed': 1,\n",
    "            'feature_fraction': 0.7,\n",
    "            'feature_fraction_seed': 1,\n",
    "            'max_bin': 100,\n",
    "            'max_depth': 7,\n",
    "            'num_rounds': 1500,}\n",
    "\n",
    "lgtrain = lgb.Dataset(x_train, y_train)\n",
    "model = lgb.train(params, lgtrain, 1500)\n",
    "pred = model.predict(x_test, num_iteration=model.best_iteration)\n",
    "\n",
    "print(\"LightGBM Training Completed.\")"
   ]
  },
  {
   "cell_type": "code",
   "execution_count": null,
   "metadata": {},
   "outputs": [],
   "source": [
    "transformed_pred = np.exp(pred)\n",
    "my_submission = pd.DataFrame({'id': test.id, 'price_doc': transformed_pred})\n",
    "my_submission.to_csv('submission.csv', index=False)"
   ]
  }
 ],
 "metadata": {
  "interpreter": {
   "hash": "97f613484c7082a5f441d3814b62bbd2ba6367090f977f8bd3f34e33dc661583"
  },
  "kernelspec": {
   "display_name": "Python 3.8.5 ('base')",
   "language": "python",
   "name": "python3"
  },
  "language_info": {
   "codemirror_mode": {
    "name": "ipython",
    "version": 3
   },
   "file_extension": ".py",
   "mimetype": "text/x-python",
   "name": "python",
   "nbconvert_exporter": "python",
   "pygments_lexer": "ipython3",
   "version": "3.8.5"
  },
  "orig_nbformat": 4
 },
 "nbformat": 4,
 "nbformat_minor": 2
}
